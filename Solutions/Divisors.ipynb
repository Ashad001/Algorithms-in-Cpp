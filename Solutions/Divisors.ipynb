{
  "nbformat": 4,
  "nbformat_minor": 0,
  "metadata": {
    "colab": {
      "name": "Divisors.ipynb",
      "provenance": [],
      "authorship_tag": "ABX9TyPlh3SEonRfWiqoQJXkQP6m",
      "include_colab_link": true
    },
    "kernelspec": {
      "name": "python3",
      "display_name": "Python 3"
    },
    "language_info": {
      "name": "python"
    }
  },
  "cells": [
    {
      "cell_type": "markdown",
      "metadata": {
        "id": "view-in-github",
        "colab_type": "text"
      },
      "source": [
        "<a href=\"https://colab.research.google.com/github/Ashad001/Algorithms-in-Cpp/blob/master/Solutions/Divisors.ipynb\" target=\"_parent\"><img src=\"https://colab.research.google.com/assets/colab-badge.svg\" alt=\"Open In Colab\"/></a>"
      ]
    },
    {
      "cell_type": "markdown",
      "source": [
        "##List of Proper Divisors\n",
        " A proper divisor of a positive integer, n, is a positive integer less than n which divides evenly\n",
        "into n. Write a function that computes all of the proper divisors of a positive integer. The integer\n",
        "will be passed to the function as its only parameter. The function will return a list containing all\n",
        "of the proper divisors as its only result. Complete this exercise by writing a main program that\n",
        "demonstrates the function by reading a value from the user and displaying the list of its proper\n",
        "divisors."
      ],
      "metadata": {
        "id": "RntMqZ8LTLgr"
      }
    },
    {
      "cell_type": "code",
      "execution_count": 5,
      "metadata": {
        "colab": {
          "base_uri": "https://localhost:8080/"
        },
        "id": "26BhYb1hSj4K",
        "outputId": "cc973cd0-cbd6-4f3c-a3c9-44179846f58a"
      },
      "outputs": [
        {
          "output_type": "execute_result",
          "data": {
            "text/plain": [
              "[1, 2, 4, 5, 10, 20]"
            ]
          },
          "metadata": {},
          "execution_count": 5
        }
      ],
      "source": [
        "def Div(n):\n",
        "  if(n < 1):\n",
        "    return -1\n",
        "  l = [i for i in range(1, n + 1) if n % i == 0]\n",
        "  return l\n",
        "\n",
        "Div(20)"
      ]
    }
  ]
}