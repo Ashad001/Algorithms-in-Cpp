{
  "nbformat": 4,
  "nbformat_minor": 0,
  "metadata": {
    "colab": {
      "name": "GuessTheWord.ipynb",
      "provenance": [],
      "authorship_tag": "ABX9TyMo1xVnyyjqe7cEhMbF6+Jl",
      "include_colab_link": true
    },
    "kernelspec": {
      "name": "python3",
      "display_name": "Python 3"
    },
    "language_info": {
      "name": "python"
    }
  },
  "cells": [
    {
      "cell_type": "markdown",
      "metadata": {
        "id": "view-in-github",
        "colab_type": "text"
      },
      "source": [
        "<a href=\"https://colab.research.google.com/github/Ashad001/Algorithms-in-Cpp/blob/master/GuessTheWord.ipynb\" target=\"_parent\"><img src=\"https://colab.research.google.com/assets/colab-badge.svg\" alt=\"Open In Colab\"/></a>"
      ]
    },
    {
      "cell_type": "code",
      "execution_count": 2,
      "metadata": {
        "colab": {
          "base_uri": "https://localhost:8080/"
        },
        "id": "XilAzuv30Fb6",
        "outputId": "e1cba86a-55f6-401d-f642-937f20440aaa"
      },
      "outputs": [
        {
          "output_type": "stream",
          "name": "stdout",
          "text": [
            "Enter your name: Ashad\n",
            "Hello Ashad! Welcome to the guessing game!\n",
            "c o _ _ a _ o _ a _ o _ _ \n",
            "Enter your guess:l\n",
            "c o l l a _ o _ a _ o _ _ \n",
            "Enter your guess:a\n",
            "c o l l a _ o _ a _ o _ _ \n",
            "Enter your guess:b\n",
            "c o l l a b o _ a _ o _ _ \n",
            "Enter your guess:o\n",
            "c o l l a b o _ a _ o _ _ \n",
            "Enter your guess:r\n",
            "c o l l a b o r a _ o r _ \n",
            "Enter your guess:t\n",
            "c o l l a b o r a t o r _ \n",
            "Enter your guess:\n",
            "c o l l a b o r a t o r _ \n",
            "Enter your guess:y\n",
            "c o l l a b o r a t o r y \n",
            "You won!\n",
            " Your Score is 100\n",
            "Do you want to play again? (Yes/No) Yes\n",
            "\n",
            "Enter your guess:d\n",
            "\n",
            "Wrong Answer!\n",
            "You got 9 left\n",
            "_ o m b o \n",
            "Enter your guess:c\n",
            "c o m b o \n",
            "You won!\n",
            " Your Score is 90\n",
            "Do you want to play again? (Yes/No) no\n",
            "\n",
            "Enter your guess:No\n",
            "\n",
            "Wrong Answer!\n",
            "You got 8 left\n"
          ]
        }
      ],
      "source": [
        "import random\n",
        "name = input('Enter your name: ')\n",
        "print(f\"Hello {name}! Welcome to the guessing game!\")\n",
        "words = [\"ashad\", \"banana\", \"calender\", \"python\", \"collaboratory\", \"combo\", \"streak\", \"opensource\", \"settings\", \"cache\"]\n",
        "index = random.randint(0, len(words) - 1)\n",
        "word = words[index]\n",
        "guesses = \"\"\n",
        "indexes = random.sample(range(0,len(word)), 3)\n",
        "for i in indexes:\n",
        "  guesses += word[i]\n",
        "chances = 10\n",
        "play = 'Yes'\n",
        "def Reset():\n",
        "  global play\n",
        "  play = input(\"Do you want to play again? (Yes/No) \")\n",
        "  if(play == 'Yes' or play == 'yes'):\n",
        "    global chances, word, guesses\n",
        "    chances = 10\n",
        "    index = random.randint(0, len(words) - 1)\n",
        "    word = words[index]\n",
        "    guesses = \"\"\n",
        "    indexes = random.sample(range(0,len(word)), 3)\n",
        "    for i in indexes:\n",
        "      guesses += word[i]\n",
        "\n",
        "\n",
        "\n",
        "while play == 'yes' or play == 'Yes':\n",
        "  won = True\n",
        "  for ch in word:\n",
        "    if ch in guesses:\n",
        "      print(ch , end = ' ')\n",
        "    else:\n",
        "      print('_', end = ' ')\n",
        "      won = False\n",
        "  if won:\n",
        "    print(f'\\nYou won!\\n Your Score is {chances * 10}')\n",
        "    Reset()\n",
        "    if(play == 'No'):\n",
        "      break\n",
        "  guess = input(\"\\nEnter your guess:\")\n",
        "  guesses += guess\n",
        "  if guess not in word:\n",
        "    chances -= 1\n",
        "    print(f\"\\nWrong Answer!\\nYou got {chances} left\"oy\n",
        "          )\n",
        "  \n",
        "  if chances == 0:\n",
        "    print('You lose!')\n",
        "    Reset()"
      ]
    }
  ]
}